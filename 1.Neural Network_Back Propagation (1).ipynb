{
 "cells": [
  {
   "cell_type": "code",
   "execution_count": 1,
   "metadata": {
    "ExecuteTime": {
     "end_time": "2021-09-25T06:32:43.321489Z",
     "start_time": "2021-09-25T06:32:39.098782Z"
    }
   },
   "outputs": [],
   "source": [
    "# Create your first MLP in Keras\n",
    "from keras.models import Sequential\n",
    "from keras.layers import Dense\n",
    "import numpy \n"
   ]
  },
  {
   "cell_type": "code",
   "execution_count": 2,
   "metadata": {
    "ExecuteTime": {
     "end_time": "2021-09-25T06:32:43.353124Z",
     "start_time": "2021-09-25T06:32:43.324488Z"
    }
   },
   "outputs": [],
   "source": [
    "# fix random seed for reproducibility\n",
    "seed = 7\n",
    "numpy.random.seed(seed)\n",
    "# load pima indians dataset\n",
    "dataset = numpy.loadtxt(\"pima-indians-diabetes.csv\", delimiter=\",\")\n",
    "# split into input (X) and output (Y) variables\n",
    "X = dataset[:,0:8]\n",
    "Y = dataset[:,8]\n"
   ]
  },
  {
   "cell_type": "code",
   "execution_count": 3,
   "metadata": {
    "ExecuteTime": {
     "end_time": "2021-09-25T06:32:44.460371Z",
     "start_time": "2021-09-25T06:32:43.353999Z"
    }
   },
   "outputs": [],
   "source": [
    "# create model\n",
    "model = Sequential()\n",
    "model.add(Dense(12, input_dim=8, kernel_initializer='uniform', activation='relu'))\n",
    "model.add(Dense(8, kernel_initializer='uniform', activation='relu'))\n",
    "model.add(Dense(1, kernel_initializer='uniform', activation='sigmoid'))"
   ]
  },
  {
   "attachments": {
    "image.png": {
     "image/png": "[encoded data removed]"
    }
   },
   "cell_type": "markdown",
   "metadata": {},
   "source": [
    "![image.png](attachment:image.png)"
   ]
  },
  {
   "cell_type": "code",
   "execution_count": 4,
   "metadata": {
    "ExecuteTime": {
     "end_time": "2021-09-25T06:32:44.490878Z",
     "start_time": "2021-09-25T06:32:44.462502Z"
    }
   },
   "outputs": [],
   "source": [
    "# Compile model\n",
    "model.compile(loss='binary_crossentropy', optimizer='adam', metrics=['accuracy'])"
   ]
  },
  {
   "cell_type": "code",
   "execution_count": 5,
   "metadata": {
    "ExecuteTime": {
     "end_time": "2021-09-25T06:32:57.963226Z",
     "start_time": "2021-09-25T06:32:44.492876Z"
    }
   },
   "outputs": [
    {
     "name": "stdout",
     "output_type": "stream",
     "text": [
      "Epoch 1/150\n",
      "52/52 [==============================] - 1s 6ms/step - loss: 0.6832 - accuracy: 0.6401 - val_loss: 0.6625 - val_accuracy: 0.6732\n",
      "Epoch 2/150\n",
      "52/52 [==============================] - 0s 1ms/step - loss: 0.6669 - accuracy: 0.6401 - val_loss: 0.6503 - val_accuracy: 0.6732\n",
      "Epoch 3/150\n",
      "52/52 [==============================] - 0s 1ms/step - loss: 0.6677 - accuracy: 0.6401 - val_loss: 0.6446 - val_accuracy: 0.6732\n",
      "Epoch 4/150\n",
      "52/52 [==============================] - 0s 1ms/step - loss: 0.6538 - accuracy: 0.6401 - val_loss: 0.6438 - val_accuracy: 0.6732\n",
      "Epoch 5/150\n",
      "52/52 [==============================] - 0s 2ms/step - loss: 0.6466 - accuracy: 0.6401 - val_loss: 0.6332 - val_accuracy: 0.6850\n",
      "Epoch 6/150\n",
      "52/52 [==============================] - 0s 2ms/step - loss: 0.6414 - accuracy: 0.6518 - val_loss: 0.6261 - val_accuracy: 0.6811\n",
      "Epoch 7/150\n",
      "52/52 [==============================] - 0s 2ms/step - loss: 0.6343 - accuracy: 0.6576 - val_loss: 0.6183 - val_accuracy: 0.6811\n",
      "Epoch 8/150\n",
      "52/52 [==============================] - 0s 1ms/step - loss: 0.6290 - accuracy: 0.6654 - val_loss: 0.6148 - val_accuracy: 0.6772\n",
      "Epoch 9/150\n",
      "52/52 [==============================] - 0s 1ms/step - loss: 0.6236 - accuracy: 0.6732 - val_loss: 0.6093 - val_accuracy: 0.6811\n",
      "Epoch 10/150\n",
      "52/52 [==============================] - 0s 1ms/step - loss: 0.6179 - accuracy: 0.6518 - val_loss: 0.5923 - val_accuracy: 0.7165\n",
      "Epoch 11/150\n",
      "52/52 [==============================] - 0s 1ms/step - loss: 0.6160 - accuracy: 0.6693 - val_loss: 0.5878 - val_accuracy: 0.7244\n",
      "Epoch 12/150\n",
      "52/52 [==============================] - 0s 1ms/step - loss: 0.6228 - accuracy: 0.6654 - val_loss: 0.5841 - val_accuracy: 0.7323\n",
      "Epoch 13/150\n",
      "52/52 [==============================] - 0s 2ms/step - loss: 0.6124 - accuracy: 0.6790 - val_loss: 0.5803 - val_accuracy: 0.6890\n",
      "Epoch 14/150\n",
      "52/52 [==============================] - 0s 2ms/step - loss: 0.6156 - accuracy: 0.6770 - val_loss: 0.5779 - val_accuracy: 0.7087\n",
      "Epoch 15/150\n",
      "52/52 [==============================] - 0s 2ms/step - loss: 0.6038 - accuracy: 0.6848 - val_loss: 0.5731 - val_accuracy: 0.7323\n",
      "Epoch 16/150\n",
      "52/52 [==============================] - 0s 1ms/step - loss: 0.6056 - accuracy: 0.7004 - val_loss: 0.5703 - val_accuracy: 0.7205\n",
      "Epoch 17/150\n",
      "52/52 [==============================] - 0s 1ms/step - loss: 0.6021 - accuracy: 0.6790 - val_loss: 0.5719 - val_accuracy: 0.7283\n",
      "Epoch 18/150\n",
      "52/52 [==============================] - 0s 1ms/step - loss: 0.5992 - accuracy: 0.6868 - val_loss: 0.5747 - val_accuracy: 0.6969\n",
      "Epoch 19/150\n",
      "52/52 [==============================] - 0s 1ms/step - loss: 0.6011 - accuracy: 0.6907 - val_loss: 0.5697 - val_accuracy: 0.6969\n",
      "Epoch 20/150\n",
      "52/52 [==============================] - 0s 1ms/step - loss: 0.6033 - accuracy: 0.6829 - val_loss: 0.5690 - val_accuracy: 0.6969\n",
      "Epoch 21/150\n",
      "52/52 [==============================] - 0s 2ms/step - loss: 0.5955 - accuracy: 0.6907 - val_loss: 0.5867 - val_accuracy: 0.7244\n",
      "Epoch 22/150\n",
      "52/52 [==============================] - 0s 2ms/step - loss: 0.5928 - accuracy: 0.7004 - val_loss: 0.5730 - val_accuracy: 0.7402\n",
      "Epoch 23/150\n",
      "52/52 [==============================] - 0s 2ms/step - loss: 0.5916 - accuracy: 0.6868 - val_loss: 0.5775 - val_accuracy: 0.7087\n",
      "Epoch 24/150\n",
      "52/52 [==============================] - 0s 1ms/step - loss: 0.5952 - accuracy: 0.6809 - val_loss: 0.5635 - val_accuracy: 0.7402\n",
      "Epoch 25/150\n",
      "52/52 [==============================] - 0s 1ms/step - loss: 0.5932 - accuracy: 0.7023 - val_loss: 0.5625 - val_accuracy: 0.7087\n",
      "Epoch 26/150\n",
      "52/52 [==============================] - 0s 1ms/step - loss: 0.5879 - accuracy: 0.7043 - val_loss: 0.5547 - val_accuracy: 0.7126\n",
      "Epoch 27/150\n",
      "52/52 [==============================] - 0s 1ms/step - loss: 0.5857 - accuracy: 0.7043 - val_loss: 0.5568 - val_accuracy: 0.6929\n",
      "Epoch 28/150\n",
      "52/52 [==============================] - 0s 2ms/step - loss: 0.5861 - accuracy: 0.7101 - val_loss: 0.5595 - val_accuracy: 0.7402\n",
      "Epoch 29/150\n",
      "52/52 [==============================] - 0s 2ms/step - loss: 0.5785 - accuracy: 0.7023 - val_loss: 0.5512 - val_accuracy: 0.7283\n",
      "Epoch 30/150\n",
      "52/52 [==============================] - 0s 2ms/step - loss: 0.5795 - accuracy: 0.6965 - val_loss: 0.5547 - val_accuracy: 0.7283\n",
      "Epoch 31/150\n",
      "52/52 [==============================] - 0s 2ms/step - loss: 0.5814 - accuracy: 0.7043 - val_loss: 0.5526 - val_accuracy: 0.7047\n",
      "Epoch 32/150\n",
      "52/52 [==============================] - 0s 2ms/step - loss: 0.5733 - accuracy: 0.7082 - val_loss: 0.5523 - val_accuracy: 0.7047\n",
      "Epoch 33/150\n",
      "52/52 [==============================] - 0s 2ms/step - loss: 0.5734 - accuracy: 0.7237 - val_loss: 0.5486 - val_accuracy: 0.7087\n",
      "Epoch 34/150\n",
      "52/52 [==============================] - 0s 2ms/step - loss: 0.5718 - accuracy: 0.7315 - val_loss: 0.5568 - val_accuracy: 0.7283\n",
      "Epoch 35/150\n",
      "52/52 [==============================] - 0s 2ms/step - loss: 0.5700 - accuracy: 0.7276 - val_loss: 0.5448 - val_accuracy: 0.7402\n",
      "Epoch 36/150\n",
      "52/52 [==============================] - 0s 2ms/step - loss: 0.5661 - accuracy: 0.7296 - val_loss: 0.5429 - val_accuracy: 0.7244\n",
      "Epoch 37/150\n",
      "52/52 [==============================] - 0s 1ms/step - loss: 0.5701 - accuracy: 0.7140 - val_loss: 0.5487 - val_accuracy: 0.7244\n",
      "Epoch 38/150\n",
      "52/52 [==============================] - 0s 1ms/step - loss: 0.5659 - accuracy: 0.7179 - val_loss: 0.5585 - val_accuracy: 0.7402\n",
      "Epoch 39/150\n",
      "52/52 [==============================] - 0s 1ms/step - loss: 0.5650 - accuracy: 0.7198 - val_loss: 0.5482 - val_accuracy: 0.7087\n",
      "Epoch 40/150\n",
      "52/52 [==============================] - 0s 1ms/step - loss: 0.5614 - accuracy: 0.7257 - val_loss: 0.5420 - val_accuracy: 0.7362\n",
      "Epoch 41/150\n",
      "52/52 [==============================] - 0s 1ms/step - loss: 0.5607 - accuracy: 0.7218 - val_loss: 0.5366 - val_accuracy: 0.7480\n",
      "Epoch 42/150\n",
      "52/52 [==============================] - 0s 1ms/step - loss: 0.5513 - accuracy: 0.7276 - val_loss: 0.5503 - val_accuracy: 0.7480\n",
      "Epoch 43/150\n",
      "52/52 [==============================] - 0s 1ms/step - loss: 0.5546 - accuracy: 0.7218 - val_loss: 0.5468 - val_accuracy: 0.7323\n",
      "Epoch 44/150\n",
      "52/52 [==============================] - 0s 1ms/step - loss: 0.5534 - accuracy: 0.7179 - val_loss: 0.5384 - val_accuracy: 0.7362\n",
      "Epoch 45/150\n",
      "52/52 [==============================] - 0s 1ms/step - loss: 0.5522 - accuracy: 0.7237 - val_loss: 0.5318 - val_accuracy: 0.7638\n",
      "Epoch 46/150\n",
      "52/52 [==============================] - 0s 1ms/step - loss: 0.5542 - accuracy: 0.7160 - val_loss: 0.5420 - val_accuracy: 0.7402\n",
      "Epoch 47/150\n",
      "52/52 [==============================] - 0s 1ms/step - loss: 0.5451 - accuracy: 0.7335 - val_loss: 0.5439 - val_accuracy: 0.7283\n",
      "Epoch 48/150\n",
      "52/52 [==============================] - 0s 1ms/step - loss: 0.5434 - accuracy: 0.7315 - val_loss: 0.5378 - val_accuracy: 0.7520\n",
      "Epoch 49/150\n",
      "52/52 [==============================] - 0s 1ms/step - loss: 0.5388 - accuracy: 0.7354 - val_loss: 0.5528 - val_accuracy: 0.7283\n",
      "Epoch 50/150\n",
      "52/52 [==============================] - 0s 1ms/step - loss: 0.5444 - accuracy: 0.7160 - val_loss: 0.5404 - val_accuracy: 0.7480\n",
      "Epoch 51/150\n",
      "52/52 [==============================] - 0s 1ms/step - loss: 0.5471 - accuracy: 0.7218 - val_loss: 0.5497 - val_accuracy: 0.7165\n",
      "Epoch 52/150\n",
      "52/52 [==============================] - 0s 2ms/step - loss: 0.5484 - accuracy: 0.7218 - val_loss: 0.5625 - val_accuracy: 0.7244\n",
      "Epoch 53/150\n",
      "52/52 [==============================] - 0s 1ms/step - loss: 0.5376 - accuracy: 0.7257 - val_loss: 0.5508 - val_accuracy: 0.7283\n",
      "Epoch 54/150\n",
      "52/52 [==============================] - 0s 1ms/step - loss: 0.5423 - accuracy: 0.7354 - val_loss: 0.5432 - val_accuracy: 0.7559\n",
      "Epoch 55/150\n",
      "52/52 [==============================] - 0s 2ms/step - loss: 0.5457 - accuracy: 0.7237 - val_loss: 0.5571 - val_accuracy: 0.7402\n",
      "Epoch 56/150\n",
      "52/52 [==============================] - 0s 2ms/step - loss: 0.5437 - accuracy: 0.7257 - val_loss: 0.5384 - val_accuracy: 0.7323\n",
      "Epoch 57/150\n",
      "52/52 [==============================] - 0s 2ms/step - loss: 0.5313 - accuracy: 0.7335 - val_loss: 0.5336 - val_accuracy: 0.7598\n",
      "Epoch 58/150\n",
      "52/52 [==============================] - 0s 2ms/step - loss: 0.5302 - accuracy: 0.7354 - val_loss: 0.5330 - val_accuracy: 0.7441\n"
     ]
    },
    {
     "name": "stdout",
     "output_type": "stream",
     "text": [
      "Epoch 59/150\n",
      "52/52 [==============================] - 0s 2ms/step - loss: 0.5351 - accuracy: 0.7315 - val_loss: 0.5518 - val_accuracy: 0.7244\n",
      "Epoch 60/150\n",
      "52/52 [==============================] - 0s 2ms/step - loss: 0.5371 - accuracy: 0.7218 - val_loss: 0.5381 - val_accuracy: 0.7520\n",
      "Epoch 61/150\n",
      "52/52 [==============================] - 0s 2ms/step - loss: 0.5325 - accuracy: 0.7276 - val_loss: 0.5382 - val_accuracy: 0.7323\n",
      "Epoch 62/150\n",
      "52/52 [==============================] - 0s 2ms/step - loss: 0.5290 - accuracy: 0.7315 - val_loss: 0.5508 - val_accuracy: 0.7362\n",
      "Epoch 63/150\n",
      "52/52 [==============================] - 0s 2ms/step - loss: 0.5326 - accuracy: 0.7276 - val_loss: 0.5476 - val_accuracy: 0.7283\n",
      "Epoch 64/150\n",
      "52/52 [==============================] - 0s 2ms/step - loss: 0.5335 - accuracy: 0.7335 - val_loss: 0.5398 - val_accuracy: 0.7598\n",
      "Epoch 65/150\n",
      "52/52 [==============================] - 0s 2ms/step - loss: 0.5266 - accuracy: 0.7276 - val_loss: 0.5494 - val_accuracy: 0.7480\n",
      "Epoch 66/150\n",
      "52/52 [==============================] - 0s 1ms/step - loss: 0.5299 - accuracy: 0.7257 - val_loss: 0.5457 - val_accuracy: 0.7441\n",
      "Epoch 67/150\n",
      "52/52 [==============================] - 0s 1ms/step - loss: 0.5347 - accuracy: 0.7257 - val_loss: 0.5339 - val_accuracy: 0.7598\n",
      "Epoch 68/150\n",
      "52/52 [==============================] - 0s 2ms/step - loss: 0.5222 - accuracy: 0.7335 - val_loss: 0.5429 - val_accuracy: 0.7362\n",
      "Epoch 69/150\n",
      "52/52 [==============================] - 0s 2ms/step - loss: 0.5266 - accuracy: 0.7218 - val_loss: 0.5373 - val_accuracy: 0.7677\n",
      "Epoch 70/150\n",
      "52/52 [==============================] - 0s 2ms/step - loss: 0.5229 - accuracy: 0.7432 - val_loss: 0.5389 - val_accuracy: 0.7717\n",
      "Epoch 71/150\n",
      "52/52 [==============================] - 0s 2ms/step - loss: 0.5249 - accuracy: 0.7393 - val_loss: 0.5405 - val_accuracy: 0.7402\n",
      "Epoch 72/150\n",
      "52/52 [==============================] - 0s 2ms/step - loss: 0.5264 - accuracy: 0.7315 - val_loss: 0.5458 - val_accuracy: 0.7677\n",
      "Epoch 73/150\n",
      "52/52 [==============================] - 0s 3ms/step - loss: 0.5268 - accuracy: 0.7296 - val_loss: 0.5421 - val_accuracy: 0.7441\n",
      "Epoch 74/150\n",
      "52/52 [==============================] - 0s 2ms/step - loss: 0.5205 - accuracy: 0.7374 - val_loss: 0.5345 - val_accuracy: 0.7717\n",
      "Epoch 75/150\n",
      "52/52 [==============================] - 0s 2ms/step - loss: 0.5192 - accuracy: 0.7296 - val_loss: 0.5351 - val_accuracy: 0.7520\n",
      "Epoch 76/150\n",
      "52/52 [==============================] - 0s 1ms/step - loss: 0.5215 - accuracy: 0.7374 - val_loss: 0.5535 - val_accuracy: 0.7402\n",
      "Epoch 77/150\n",
      "52/52 [==============================] - 0s 2ms/step - loss: 0.5194 - accuracy: 0.7490 - val_loss: 0.5292 - val_accuracy: 0.7677\n",
      "Epoch 78/150\n",
      "52/52 [==============================] - 0s 1ms/step - loss: 0.5170 - accuracy: 0.7315 - val_loss: 0.5313 - val_accuracy: 0.7323\n",
      "Epoch 79/150\n",
      "52/52 [==============================] - 0s 1ms/step - loss: 0.5154 - accuracy: 0.7393 - val_loss: 0.5338 - val_accuracy: 0.7441\n",
      "Epoch 80/150\n",
      "52/52 [==============================] - 0s 2ms/step - loss: 0.5170 - accuracy: 0.7354 - val_loss: 0.5459 - val_accuracy: 0.7323\n",
      "Epoch 81/150\n",
      "52/52 [==============================] - 0s 3ms/step - loss: 0.5139 - accuracy: 0.7412 - val_loss: 0.5378 - val_accuracy: 0.7402\n",
      "Epoch 82/150\n",
      "52/52 [==============================] - 0s 2ms/step - loss: 0.5159 - accuracy: 0.7335 - val_loss: 0.5468 - val_accuracy: 0.7598\n",
      "Epoch 83/150\n",
      "52/52 [==============================] - 0s 2ms/step - loss: 0.5195 - accuracy: 0.7393 - val_loss: 0.5173 - val_accuracy: 0.7835\n",
      "Epoch 84/150\n",
      "52/52 [==============================] - 0s 2ms/step - loss: 0.5171 - accuracy: 0.7432 - val_loss: 0.5364 - val_accuracy: 0.7677\n",
      "Epoch 85/150\n",
      "52/52 [==============================] - 0s 2ms/step - loss: 0.5088 - accuracy: 0.7510 - val_loss: 0.5297 - val_accuracy: 0.7441\n",
      "Epoch 86/150\n",
      "52/52 [==============================] - 0s 1ms/step - loss: 0.5097 - accuracy: 0.7374 - val_loss: 0.5342 - val_accuracy: 0.7520\n",
      "Epoch 87/150\n",
      "52/52 [==============================] - 0s 1ms/step - loss: 0.5156 - accuracy: 0.7432 - val_loss: 0.5247 - val_accuracy: 0.7598\n",
      "Epoch 88/150\n",
      "52/52 [==============================] - 0s 1ms/step - loss: 0.5117 - accuracy: 0.7549 - val_loss: 0.5423 - val_accuracy: 0.7283\n",
      "Epoch 89/150\n",
      "52/52 [==============================] - 0s 1ms/step - loss: 0.5145 - accuracy: 0.7510 - val_loss: 0.5395 - val_accuracy: 0.7559\n",
      "Epoch 90/150\n",
      "52/52 [==============================] - 0s 1ms/step - loss: 0.5060 - accuracy: 0.7549 - val_loss: 0.5323 - val_accuracy: 0.7677\n",
      "Epoch 91/150\n",
      "52/52 [==============================] - 0s 1ms/step - loss: 0.5060 - accuracy: 0.7471 - val_loss: 0.5194 - val_accuracy: 0.7717\n",
      "Epoch 92/150\n",
      "52/52 [==============================] - 0s 1ms/step - loss: 0.5057 - accuracy: 0.7490 - val_loss: 0.5272 - val_accuracy: 0.7638\n",
      "Epoch 93/150\n",
      "52/52 [==============================] - 0s 1ms/step - loss: 0.5116 - accuracy: 0.7393 - val_loss: 0.5208 - val_accuracy: 0.7717\n",
      "Epoch 94/150\n",
      "52/52 [==============================] - 0s 1ms/step - loss: 0.5167 - accuracy: 0.7393 - val_loss: 0.5265 - val_accuracy: 0.7638\n",
      "Epoch 95/150\n",
      "52/52 [==============================] - 0s 1ms/step - loss: 0.5138 - accuracy: 0.7510 - val_loss: 0.5610 - val_accuracy: 0.7205\n",
      "Epoch 96/150\n",
      "52/52 [==============================] - 0s 1ms/step - loss: 0.5071 - accuracy: 0.7549 - val_loss: 0.5368 - val_accuracy: 0.7520\n",
      "Epoch 97/150\n",
      "52/52 [==============================] - 0s 1ms/step - loss: 0.5025 - accuracy: 0.7588 - val_loss: 0.5491 - val_accuracy: 0.7441\n",
      "Epoch 98/150\n",
      "52/52 [==============================] - 0s 1ms/step - loss: 0.5088 - accuracy: 0.7529 - val_loss: 0.5356 - val_accuracy: 0.7520\n",
      "Epoch 99/150\n",
      "52/52 [==============================] - 0s 1ms/step - loss: 0.5024 - accuracy: 0.7588 - val_loss: 0.5283 - val_accuracy: 0.7638\n",
      "Epoch 100/150\n",
      "52/52 [==============================] - 0s 1ms/step - loss: 0.5032 - accuracy: 0.7432 - val_loss: 0.5471 - val_accuracy: 0.7677\n",
      "Epoch 101/150\n",
      "52/52 [==============================] - 0s 1ms/step - loss: 0.5023 - accuracy: 0.7607 - val_loss: 0.5197 - val_accuracy: 0.7559\n",
      "Epoch 102/150\n",
      "52/52 [==============================] - 0s 2ms/step - loss: 0.5031 - accuracy: 0.7607 - val_loss: 0.5119 - val_accuracy: 0.7717\n",
      "Epoch 103/150\n",
      "52/52 [==============================] - 0s 1ms/step - loss: 0.5098 - accuracy: 0.7432 - val_loss: 0.5358 - val_accuracy: 0.7638\n",
      "Epoch 104/150\n",
      "52/52 [==============================] - 0s 1ms/step - loss: 0.5004 - accuracy: 0.7626 - val_loss: 0.5246 - val_accuracy: 0.7677\n",
      "Epoch 105/150\n",
      "52/52 [==============================] - 0s 1ms/step - loss: 0.5035 - accuracy: 0.7549 - val_loss: 0.5276 - val_accuracy: 0.7598\n",
      "Epoch 106/150\n",
      "52/52 [==============================] - 0s 2ms/step - loss: 0.4957 - accuracy: 0.7510 - val_loss: 0.5318 - val_accuracy: 0.7480\n",
      "Epoch 107/150\n",
      "52/52 [==============================] - 0s 1ms/step - loss: 0.5011 - accuracy: 0.7568 - val_loss: 0.5370 - val_accuracy: 0.7520\n",
      "Epoch 108/150\n",
      "52/52 [==============================] - 0s 1ms/step - loss: 0.4969 - accuracy: 0.7510 - val_loss: 0.5237 - val_accuracy: 0.7559\n",
      "Epoch 109/150\n",
      "52/52 [==============================] - 0s 1ms/step - loss: 0.5013 - accuracy: 0.7529 - val_loss: 0.5232 - val_accuracy: 0.7677\n",
      "Epoch 110/150\n",
      "52/52 [==============================] - 0s 1ms/step - loss: 0.4971 - accuracy: 0.7646 - val_loss: 0.5436 - val_accuracy: 0.7795\n",
      "Epoch 111/150\n",
      "52/52 [==============================] - 0s 1ms/step - loss: 0.4995 - accuracy: 0.7549 - val_loss: 0.5114 - val_accuracy: 0.7756\n",
      "Epoch 112/150\n",
      "52/52 [==============================] - 0s 1ms/step - loss: 0.5048 - accuracy: 0.7432 - val_loss: 0.5170 - val_accuracy: 0.7756\n",
      "Epoch 113/150\n",
      "52/52 [==============================] - 0s 2ms/step - loss: 0.4997 - accuracy: 0.7529 - val_loss: 0.5379 - val_accuracy: 0.7598\n",
      "Epoch 114/150\n",
      "52/52 [==============================] - 0s 1ms/step - loss: 0.4940 - accuracy: 0.7607 - val_loss: 0.5246 - val_accuracy: 0.7874\n",
      "Epoch 115/150\n",
      "52/52 [==============================] - 0s 1ms/step - loss: 0.4980 - accuracy: 0.7549 - val_loss: 0.5231 - val_accuracy: 0.7677\n",
      "Epoch 116/150\n",
      "52/52 [==============================] - 0s 2ms/step - loss: 0.4944 - accuracy: 0.7646 - val_loss: 0.5363 - val_accuracy: 0.7441\n",
      "Epoch 117/150\n",
      "52/52 [==============================] - 0s 1ms/step - loss: 0.4912 - accuracy: 0.7510 - val_loss: 0.5278 - val_accuracy: 0.7717\n",
      "Epoch 118/150\n",
      "52/52 [==============================] - 0s 1ms/step - loss: 0.4926 - accuracy: 0.7588 - val_loss: 0.5287 - val_accuracy: 0.7717\n",
      "Epoch 119/150\n",
      "52/52 [==============================] - 0s 1ms/step - loss: 0.4933 - accuracy: 0.7607 - val_loss: 0.5289 - val_accuracy: 0.7756\n",
      "Epoch 120/150\n",
      "52/52 [==============================] - 0s 1ms/step - loss: 0.4954 - accuracy: 0.7549 - val_loss: 0.5271 - val_accuracy: 0.7795\n",
      "Epoch 121/150\n",
      "52/52 [==============================] - 0s 1ms/step - loss: 0.4886 - accuracy: 0.7665 - val_loss: 0.5209 - val_accuracy: 0.7835\n",
      "Epoch 122/150\n",
      "52/52 [==============================] - 0s 1ms/step - loss: 0.4921 - accuracy: 0.7471 - val_loss: 0.5248 - val_accuracy: 0.7717\n",
      "Epoch 123/150\n",
      "52/52 [==============================] - 0s 1ms/step - loss: 0.4984 - accuracy: 0.7529 - val_loss: 0.5097 - val_accuracy: 0.7953\n",
      "Epoch 124/150\n",
      "52/52 [==============================] - 0s 1ms/step - loss: 0.4938 - accuracy: 0.7490 - val_loss: 0.5164 - val_accuracy: 0.7677\n",
      "Epoch 125/150\n",
      "52/52 [==============================] - 0s 1ms/step - loss: 0.4911 - accuracy: 0.7607 - val_loss: 0.5165 - val_accuracy: 0.7756\n",
      "Epoch 126/150\n",
      "52/52 [==============================] - 0s 1ms/step - loss: 0.4911 - accuracy: 0.7568 - val_loss: 0.5297 - val_accuracy: 0.7520\n",
      "Epoch 127/150\n",
      "52/52 [==============================] - 0s 1ms/step - loss: 0.4891 - accuracy: 0.7490 - val_loss: 0.5405 - val_accuracy: 0.7244\n",
      "Epoch 128/150\n",
      "52/52 [==============================] - 0s 1ms/step - loss: 0.4863 - accuracy: 0.7588 - val_loss: 0.5268 - val_accuracy: 0.7559\n",
      "Epoch 129/150\n",
      "52/52 [==============================] - 0s 1ms/step - loss: 0.5000 - accuracy: 0.7510 - val_loss: 0.5365 - val_accuracy: 0.7677\n",
      "Epoch 130/150\n",
      "52/52 [==============================] - 0s 1ms/step - loss: 0.4925 - accuracy: 0.7529 - val_loss: 0.5120 - val_accuracy: 0.7874\n",
      "Epoch 131/150\n",
      "52/52 [==============================] - 0s 1ms/step - loss: 0.4834 - accuracy: 0.7588 - val_loss: 0.5206 - val_accuracy: 0.7756\n",
      "Epoch 132/150\n",
      "52/52 [==============================] - 0s 1ms/step - loss: 0.4846 - accuracy: 0.7568 - val_loss: 0.5504 - val_accuracy: 0.7559\n",
      "Epoch 133/150\n",
      "52/52 [==============================] - 0s 1ms/step - loss: 0.4937 - accuracy: 0.7549 - val_loss: 0.5364 - val_accuracy: 0.7953\n",
      "Epoch 134/150\n",
      "52/52 [==============================] - 0s 1ms/step - loss: 0.4855 - accuracy: 0.7432 - val_loss: 0.5212 - val_accuracy: 0.7638\n",
      "Epoch 135/150\n",
      "52/52 [==============================] - 0s 1ms/step - loss: 0.4851 - accuracy: 0.7607 - val_loss: 0.5058 - val_accuracy: 0.8031\n",
      "Epoch 136/150\n",
      "52/52 [==============================] - 0s 1ms/step - loss: 0.4852 - accuracy: 0.7549 - val_loss: 0.5382 - val_accuracy: 0.7717\n",
      "Epoch 137/150\n",
      "52/52 [==============================] - 0s 1ms/step - loss: 0.4856 - accuracy: 0.7588 - val_loss: 0.5164 - val_accuracy: 0.7480\n",
      "Epoch 138/150\n",
      "52/52 [==============================] - 0s 1ms/step - loss: 0.4846 - accuracy: 0.7665 - val_loss: 0.5185 - val_accuracy: 0.7913\n",
      "Epoch 139/150\n",
      "52/52 [==============================] - 0s 1ms/step - loss: 0.4874 - accuracy: 0.7549 - val_loss: 0.5280 - val_accuracy: 0.7835\n",
      "Epoch 140/150\n",
      "52/52 [==============================] - 0s 1ms/step - loss: 0.4901 - accuracy: 0.7588 - val_loss: 0.5034 - val_accuracy: 0.7835\n",
      "Epoch 141/150\n",
      "52/52 [==============================] - 0s 1ms/step - loss: 0.4869 - accuracy: 0.7665 - val_loss: 0.5311 - val_accuracy: 0.7362\n",
      "Epoch 142/150\n",
      "52/52 [==============================] - 0s 1ms/step - loss: 0.4874 - accuracy: 0.7510 - val_loss: 0.5100 - val_accuracy: 0.7992\n",
      "Epoch 143/150\n",
      "52/52 [==============================] - 0s 1ms/step - loss: 0.4904 - accuracy: 0.7529 - val_loss: 0.5241 - val_accuracy: 0.7598\n",
      "Epoch 144/150\n",
      "52/52 [==============================] - 0s 1ms/step - loss: 0.4925 - accuracy: 0.7568 - val_loss: 0.5239 - val_accuracy: 0.7913\n",
      "Epoch 145/150\n",
      "52/52 [==============================] - 0s 1ms/step - loss: 0.4785 - accuracy: 0.7568 - val_loss: 0.5530 - val_accuracy: 0.7480\n",
      "Epoch 146/150\n",
      "52/52 [==============================] - 0s 1ms/step - loss: 0.4851 - accuracy: 0.7510 - val_loss: 0.5122 - val_accuracy: 0.7913\n",
      "Epoch 147/150\n",
      "52/52 [==============================] - 0s 1ms/step - loss: 0.4825 - accuracy: 0.7588 - val_loss: 0.5328 - val_accuracy: 0.7874\n",
      "Epoch 148/150\n",
      "52/52 [==============================] - 0s 1ms/step - loss: 0.4904 - accuracy: 0.7626 - val_loss: 0.5237 - val_accuracy: 0.7717\n",
      "Epoch 149/150\n",
      "52/52 [==============================] - 0s 1ms/step - loss: 0.4863 - accuracy: 0.7724 - val_loss: 0.5097 - val_accuracy: 0.7913\n",
      "Epoch 150/150\n",
      "52/52 [==============================] - 0s 1ms/step - loss: 0.4765 - accuracy: 0.7626 - val_loss: 0.5405 - val_accuracy: 0.7441\n"
     ]
    }
   ],
   "source": [
    "# Fit the model\n",
    "p=model.fit(X, Y, validation_split=0.33, epochs=150, batch_size=10)"
   ]
  },
  {
   "cell_type": "code",
   "execution_count": 6,
   "metadata": {
    "ExecuteTime": {
     "end_time": "2021-09-25T06:32:58.123245Z",
     "start_time": "2021-09-25T06:32:57.965229Z"
    }
   },
   "outputs": [
    {
     "name": "stdout",
     "output_type": "stream",
     "text": [
      "24/24 [==============================] - 0s 1ms/step - loss: 0.5002 - accuracy: 0.7591\n",
      "accuracy: 75.91%\n"
     ]
    }
   ],
   "source": [
    "# evaluate the model\n",
    "scores = model.evaluate(X, Y)\n",
    "print(\"%s: %.2f%%\" % (model.metrics_names[1], scores[1]*100)) "
   ]
  },
  {
   "cell_type": "code",
   "execution_count": 7,
   "metadata": {
    "ExecuteTime": {
     "end_time": "2021-09-25T06:32:58.139246Z",
     "start_time": "2021-09-25T06:32:58.124245Z"
    }
   },
   "outputs": [
    {
     "name": "stdout",
     "output_type": "stream",
     "text": [
      "dict_keys(['loss', 'accuracy', 'val_loss', 'val_accuracy'])\n"
     ]
    }
   ],
   "source": [
    "# Visualize training history\n",
    "\n",
    "# list all data in history\n",
    "print(p.history.keys())\n",
    " "
   ]
  },
  {
   "cell_type": "code",
   "execution_count": 8,
   "metadata": {
    "ExecuteTime": {
     "end_time": "2021-09-25T06:32:58.155247Z",
     "start_time": "2021-09-25T06:32:58.141246Z"
    }
   },
   "outputs": [
    {
     "data": {
      "text/plain": [
       "['loss', 'accuracy']"
      ]
     },
     "execution_count": 8,
     "metadata": {},
     "output_type": "execute_result"
    }
   ],
   "source": [
    "model.metrics_names"
   ]
  },
  {
   "cell_type": "code",
   "execution_count": 9,
   "metadata": {
    "ExecuteTime": {
     "end_time": "2021-09-25T06:32:58.816196Z",
     "start_time": "2021-09-25T06:32:58.157248Z"
    }
   },
   "outputs": [
    {
     "data": {
      "image/png": "[encoded data removed]",
      "text/plain": [
       "<Figure size 432x288 with 1 Axes>"
      ]
     },
     "metadata": {
      "needs_background": "light"
     },
     "output_type": "display_data"
    },
    {
     "data": {
      "image/png": "[encoded data removed]",
      "text/plain": [
       "<Figure size 432x288 with 1 Axes>"
      ]
     },
     "metadata": {
      "needs_background": "light"
     },
     "output_type": "display_data"
    }
   ],
   "source": [
    "# summarize history for accuracy\n",
    "import matplotlib.pyplot as plt\n",
    "plt.plot(p.history['accuracy'])\n",
    "plt.plot(p.history['val_accuracy'])\n",
    "plt.title('model accuracy')\n",
    "plt.ylabel('accuracy')\n",
    "plt.xlabel('epoch')\n",
    "plt.legend(['train', 'test'], loc='upper left')\n",
    "plt.show()\n",
    "# summarize history for loss\n",
    "plt.plot(p.history['loss'])\n",
    "plt.plot(p.history['val_loss'])\n",
    "plt.title('model loss') \n",
    "plt.ylabel('loss')\n",
    "plt.xlabel('epoch')\n",
    "plt.legend(['train', 'test'], loc='upper left')\n",
    "plt.show()\n"
   ]
  },
  {
   "cell_type": "code",
   "execution_count": null,
   "metadata": {},
   "outputs": [],
   "source": []
  },
  {
   "cell_type": "code",
   "execution_count": null,
   "metadata": {},
   "outputs": [],
   "source": []
  }
 ],
 "metadata": {
  "hide_input": false,
  "kernelspec": {
   "display_name": "Python 3 (ipykernel)",
   "language": "python",
   "name": "python3"
  },
  "language_info": {
   "codemirror_mode": {
    "name": "ipython",
    "version": 3
   },
   "file_extension": ".py",
   "mimetype": "text/x-python",
   "name": "python",
   "nbconvert_exporter": "python",
   "pygments_lexer": "ipython3",
   "version": "3.8.8"
  },
  "varInspector": {
   "cols": {
    "lenName": 16,
    "lenType": 16,
    "lenVar": 40
   },
   "kernels_config": {
    "python": {
     "delete_cmd_postfix": "",
     "delete_cmd_prefix": "del ",
     "library": "var_list.py",
     "varRefreshCmd": "print(var_dic_list())"
    },
    "r": {
     "delete_cmd_postfix": ") ",
     "delete_cmd_prefix": "rm(",
     "library": "var_list.r",
     "varRefreshCmd": "cat(var_dic_list()) "
    }
   },
   "types_to_exclude": [
    "module",
    "function",
    "builtin_function_or_method",
    "instance",
    "_Feature"
   ],
   "window_display": false
  }
 },
 "nbformat": 4,
 "nbformat_minor": 2
}
